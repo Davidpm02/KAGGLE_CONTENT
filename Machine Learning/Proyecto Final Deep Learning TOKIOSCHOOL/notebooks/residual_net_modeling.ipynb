{
 "cells": [
  {
   "cell_type": "markdown",
   "id": "ed1ef75e-b008-41b6-b96e-b0c272e95baa",
   "metadata": {},
   "source": [
    "# Objetivo del notebook\n",
    "\n",
    "Este fichero Jupyter tiene como objetivo diseñar una estructura de red residual que, tomando los parametros de una red preentrenada, puede ser optimizada para el caso que enfrentamos. El objetivo principal es tratar de incrementar, en la medida de lo posible, el rendimiento de la CNN entrenada previamente (con aumento de datos, **cnn_modeling.ipynb**)."
   ]
  },
  {
   "cell_type": "markdown",
   "id": "07d83dbf-aa33-4678-8684-7422018e245a",
   "metadata": {},
   "source": [
    "---\n",
    "\n",
    "<br>\n",
    "<br>\n",
    "<br>"
   ]
  },
  {
   "cell_type": "markdown",
   "id": "96b98b12-3675-412d-820d-01af8a2a9676",
   "metadata": {},
   "source": [
    "## Importar las librerías a utilizar\n",
    "\n",
    "En la siguiente celda se importan todas las librerías que se utilizan en el presente fichero Jupyter."
   ]
  },
  {
   "cell_type": "code",
   "execution_count": 1,
   "id": "fa8400e4-1201-4905-8f43-ea0f047905a3",
   "metadata": {},
   "outputs": [],
   "source": [
    "# Librerías de procesamiento y manipulación de datos\n",
    "import numpy as np\n",
    "\n",
    "# Librerías de visualización\n",
    "import matplotlib.pyplot as plt\n",
    "import cv2 as cv\n",
    "\n",
    "# Librerías para la construcción de la red convolucional\n",
    "import tensorflow as tf\n",
    "from tensorflow.keras import Sequential, layers\n",
    "from tensorflow.keras.optimizers import Adam, SGD\n",
    "from tensorflow.keras.preprocessing.image import ImageDataGenerator\n",
    "from sklearn.metrics import confusion_matrix, classification_report, f1_score, recall_score, precision_score, accuracy_score\n",
    "from tensorflow.keras.callbacks import EarlyStopping, ModelCheckpoint\n",
    "\n",
    "\n",
    "from keras import Input\n",
    "from keras import Model\n",
    "from keras.layers import Flatten, Dense, GlobalAveragePooling2D, Dropout\n",
    "from tensorflow.keras.applications.resnet50 import ResNet50 # no funciona correctamente\n",
    "from keras.applications import EfficientNetB0 # no funciona correctamente\n",
    "from keras.applications import InceptionResNetV2\n",
    "from keras.applications import InceptionV3\n",
    "from keras.applications import Xception\n",
    "from keras.applications import VGG16\n",
    "from keras.applications import MobileNet\n",
    "\n",
    "# Otros\n",
    "import os\n",
    "from tqdm import tqdm\n",
    "import warnings\n",
    "\n",
    "warnings.filterwarnings(action = \"ignore\")"
   ]
  },
  {
   "cell_type": "markdown",
   "id": "444d2f01-2638-40e8-8d40-7681bd0528db",
   "metadata": {},
   "source": [
    "---\n",
    "\n",
    "<br>\n",
    "<br>\n",
    "<br>"
   ]
  },
  {
   "cell_type": "markdown",
   "id": "ccd2563c-67b4-4209-b40e-29b8a6ed4263",
   "metadata": {},
   "source": [
    "## Cargo el conjunto de datos\n",
    "\n",
    "Para entrenar la red residual, utilizo el conjunto aumentado que he creado para el entrenamiento de la red convolucional del fichero **cnn_modeling.ipynb**."
   ]
  },
  {
   "cell_type": "code",
   "execution_count": 2,
   "id": "9f775b65-af03-41fd-8037-5a7e286a01e6",
   "metadata": {},
   "outputs": [
    {
     "name": "stdout",
     "output_type": "stream",
     "text": [
      "Found 55458 images belonging to 2 classes.\n",
      "Found 829 images belonging to 2 classes.\n",
      "Found 506 images belonging to 2 classes.\n"
     ]
    }
   ],
   "source": [
    "# Defino las rutas donde se alojan cada conjunto de datos\n",
    "train_path = \"../processed_data_aug/train/\"\n",
    "val_path = \"../processed_data_aug/val/\"\n",
    "test_path = \"../processed_data_aug/test/\"\n",
    "\n",
    "\n",
    "# Instancio un objeto de la clase ImageDataGenerator\n",
    "datagen = ImageDataGenerator(\n",
    "    rescale=1. / 255,\n",
    ")\n",
    "\n",
    "batch_size = 150\n",
    "\n",
    "# Defino los subconjuntos de datos con datagen.flow_from_directory()\n",
    "train_data = datagen.flow_from_directory(\n",
    "    directory=train_path,\n",
    "    target_size=(224, 224),\n",
    "    classes=[\"not fractured\", \"fractured\"],\n",
    "    shuffle=True,\n",
    "    batch_size=batch_size,\n",
    "    class_mode=\"binary\"\n",
    ")\n",
    "\n",
    "val_data = datagen.flow_from_directory(\n",
    "    directory=val_path,\n",
    "    target_size=(224, 224),\n",
    "    classes=[\"not fractured\", \"fractured\"],\n",
    "    shuffle=False,\n",
    "    batch_size=batch_size,\n",
    "    class_mode=\"binary\"\n",
    ")\n",
    "\n",
    "test_data = datagen.flow_from_directory(\n",
    "    directory=test_path,\n",
    "    target_size=(224, 224),\n",
    "    classes=[\"not fractured\", \"fractured\"],\n",
    "    shuffle=False,\n",
    "    batch_size=batch_size,\n",
    "    class_mode=\"binary\"\n",
    ")"
   ]
  },
  {
   "cell_type": "markdown",
   "id": "6c62de10-ebc3-46b5-a458-2f4025091f52",
   "metadata": {},
   "source": [
    "---\n",
    "\n",
    "<br>\n",
    "<br>\n",
    "<br>"
   ]
  },
  {
   "cell_type": "markdown",
   "id": "7fdd3dce-6660-4f63-868c-72791607087a",
   "metadata": {},
   "source": [
    "## Desarrollo de la red residual\n",
    "\n",
    "Para llevar a cabo el proceso de aprendizaje por transferencia, voy a utilizar la red InceptionV3, a la cual le cargo los parametros para el dataset de \"imagenet\"."
   ]
  },
  {
   "cell_type": "code",
   "execution_count": 3,
   "id": "bd04bb08-029c-4e8f-8af6-0dfced1f72ae",
   "metadata": {},
   "outputs": [
    {
     "name": "stdout",
     "output_type": "stream",
     "text": [
      "Model: \"residual_net_aug\"\n",
      "_________________________________________________________________\n",
      " Layer (type)                Output Shape              Param #   \n",
      "=================================================================\n",
      " input_2 (InputLayer)        [(None, 224, 224, 3)]     0         \n",
      "                                                                 \n",
      " inception_v3 (Functional)   (None, 5, 5, 2048)        21802784  \n",
      "                                                                 \n",
      " global_average_pooling2d (G  (None, 2048)             0         \n",
      " lobalAveragePooling2D)                                          \n",
      "                                                                 \n",
      " dense (Dense)               (None, 1)                 2049      \n",
      "                                                                 \n",
      "=================================================================\n",
      "Total params: 21,804,833\n",
      "Trainable params: 2,049\n",
      "Non-trainable params: 21,802,784\n",
      "_________________________________________________________________\n"
     ]
    }
   ],
   "source": [
    "# Cargamos el modelo pre-entrenado\n",
    "pre_trained_model = InceptionV3(\n",
    "    weights=\"imagenet\",\n",
    "    input_shape= (224, 224, 3),\n",
    "    include_top=False # No queremos incluir la \"cabeza\" de clasificación de Imagenet de 1000 clases\n",
    ")\n",
    "\n",
    "# Congelamos los parámetros del modelo base\n",
    "pre_trained_model.trainable=False\n",
    "\n",
    "# Creamos un nuevo modelo sobre él  \n",
    "input = Input(shape=(224, 224, 3))\n",
    "\n",
    "output = pre_trained_model(input, training=False)\n",
    "output = GlobalAveragePooling2D()(output)\n",
    "output = Dense(1, activation=\"sigmoid\")(output)\n",
    "\n",
    "# Construyo el modelo\n",
    "model = Model(inputs=input,\n",
    "              outputs=output,\n",
    "              name=\"residual_net_aug\")\n",
    "\n",
    "# Compilo el modelo\n",
    "model.compile(loss='binary_crossentropy',\n",
    "              optimizer=Adam(learning_rate=1e-4),\n",
    "              metrics=['accuracy'])\n",
    "\n",
    "# Reviso la arquitectura de la red residual\n",
    "model.summary()"
   ]
  },
  {
   "cell_type": "code",
   "execution_count": 4,
   "id": "8940e69e-39ae-40ca-99ab-5c9e8b477d07",
   "metadata": {},
   "outputs": [
    {
     "name": "stdout",
     "output_type": "stream",
     "text": [
      "Epoch 1/50\n",
      "369/369 [==============================] - 49s 123ms/step - loss: 0.6938 - accuracy: 0.5513 - val_loss: 0.6011 - val_accuracy: 0.6973\n",
      "Epoch 2/50\n",
      "369/369 [==============================] - 45s 121ms/step - loss: 0.6650 - accuracy: 0.5901 - val_loss: 0.5407 - val_accuracy: 0.7600\n",
      "Epoch 3/50\n",
      "369/369 [==============================] - 45s 122ms/step - loss: 0.6511 - accuracy: 0.6035 - val_loss: 0.5112 - val_accuracy: 0.7827\n",
      "Epoch 4/50\n",
      "369/369 [==============================] - 45s 121ms/step - loss: 0.6421 - accuracy: 0.6128 - val_loss: 0.4641 - val_accuracy: 0.8187\n",
      "Epoch 5/50\n",
      "369/369 [==============================] - 44s 120ms/step - loss: 0.6359 - accuracy: 0.6175 - val_loss: 0.4758 - val_accuracy: 0.8120\n",
      "Epoch 6/50\n",
      "369/369 [==============================] - 45s 121ms/step - loss: 0.6311 - accuracy: 0.6210 - val_loss: 0.4277 - val_accuracy: 0.8480\n",
      "Epoch 7/50\n",
      "369/369 [==============================] - 45s 121ms/step - loss: 0.6269 - accuracy: 0.6261 - val_loss: 0.4185 - val_accuracy: 0.8533\n",
      "Epoch 8/50\n",
      "369/369 [==============================] - 45s 121ms/step - loss: 0.6238 - accuracy: 0.6283 - val_loss: 0.3885 - val_accuracy: 0.8600\n",
      "Epoch 9/50\n",
      "369/369 [==============================] - 44s 120ms/step - loss: 0.6209 - accuracy: 0.6322 - val_loss: 0.4061 - val_accuracy: 0.8600\n",
      "Epoch 10/50\n",
      "369/369 [==============================] - 45s 121ms/step - loss: 0.6186 - accuracy: 0.6337 - val_loss: 0.3689 - val_accuracy: 0.8640\n",
      "Epoch 11/50\n",
      "369/369 [==============================] - 44s 120ms/step - loss: 0.6165 - accuracy: 0.6345 - val_loss: 0.3820 - val_accuracy: 0.8640\n",
      "Epoch 12/50\n",
      "369/369 [==============================] - 45s 121ms/step - loss: 0.6146 - accuracy: 0.6369 - val_loss: 0.3654 - val_accuracy: 0.8720\n",
      "Epoch 13/50\n",
      "369/369 [==============================] - 45s 121ms/step - loss: 0.6126 - accuracy: 0.6388 - val_loss: 0.3653 - val_accuracy: 0.8707\n",
      "Epoch 14/50\n",
      "369/369 [==============================] - 45s 121ms/step - loss: 0.6111 - accuracy: 0.6400 - val_loss: 0.3480 - val_accuracy: 0.8880\n",
      "Epoch 15/50\n",
      "369/369 [==============================] - 44s 120ms/step - loss: 0.6101 - accuracy: 0.6396 - val_loss: 0.3517 - val_accuracy: 0.8773\n",
      "Epoch 16/50\n",
      "369/369 [==============================] - 44s 120ms/step - loss: 0.6087 - accuracy: 0.6418 - val_loss: 0.3494 - val_accuracy: 0.8787\n",
      "Epoch 17/50\n",
      "369/369 [==============================] - 45s 121ms/step - loss: 0.6074 - accuracy: 0.6427 - val_loss: 0.3452 - val_accuracy: 0.8800\n",
      "Epoch 18/50\n",
      "369/369 [==============================] - 45s 121ms/step - loss: 0.6062 - accuracy: 0.6440 - val_loss: 0.3315 - val_accuracy: 0.8933\n",
      "Epoch 19/50\n",
      "369/369 [==============================] - 45s 121ms/step - loss: 0.6055 - accuracy: 0.6439 - val_loss: 0.3218 - val_accuracy: 0.8947\n",
      "Epoch 20/50\n",
      "369/369 [==============================] - 45s 121ms/step - loss: 0.6046 - accuracy: 0.6461 - val_loss: 0.3200 - val_accuracy: 0.8947\n",
      "Epoch 21/50\n",
      "369/369 [==============================] - 44s 120ms/step - loss: 0.6035 - accuracy: 0.6474 - val_loss: 0.3337 - val_accuracy: 0.8920\n",
      "Epoch 22/50\n",
      "369/369 [==============================] - 45s 121ms/step - loss: 0.6023 - accuracy: 0.6467 - val_loss: 0.3167 - val_accuracy: 0.8987\n",
      "Epoch 23/50\n",
      "369/369 [==============================] - 45s 121ms/step - loss: 0.6016 - accuracy: 0.6466 - val_loss: 0.3093 - val_accuracy: 0.8973\n",
      "Epoch 24/50\n",
      "369/369 [==============================] - 45s 121ms/step - loss: 0.6008 - accuracy: 0.6486 - val_loss: 0.3089 - val_accuracy: 0.9027\n",
      "Epoch 25/50\n",
      "369/369 [==============================] - 45s 120ms/step - loss: 0.6003 - accuracy: 0.6489 - val_loss: 0.3149 - val_accuracy: 0.8987\n",
      "Epoch 26/50\n",
      "369/369 [==============================] - 45s 121ms/step - loss: 0.5996 - accuracy: 0.6495 - val_loss: 0.2974 - val_accuracy: 0.9053\n",
      "Epoch 27/50\n",
      "369/369 [==============================] - 45s 120ms/step - loss: 0.5992 - accuracy: 0.6490 - val_loss: 0.2977 - val_accuracy: 0.9040\n",
      "Epoch 28/50\n",
      "369/369 [==============================] - 44s 120ms/step - loss: 0.5982 - accuracy: 0.6514 - val_loss: 0.3007 - val_accuracy: 0.9080\n",
      "Epoch 29/50\n",
      "369/369 [==============================] - 45s 120ms/step - loss: 0.5977 - accuracy: 0.6518 - val_loss: 0.2989 - val_accuracy: 0.9093\n",
      "Epoch 30/50\n",
      "369/369 [==============================] - 45s 120ms/step - loss: 0.5974 - accuracy: 0.6496 - val_loss: 0.2975 - val_accuracy: 0.9107\n",
      "Epoch 31/50\n",
      "369/369 [==============================] - 44s 120ms/step - loss: 0.5970 - accuracy: 0.6516 - val_loss: 0.2988 - val_accuracy: 0.9107\n",
      "Epoch 32/50\n",
      "369/369 [==============================] - 45s 121ms/step - loss: 0.5964 - accuracy: 0.6530 - val_loss: 0.2900 - val_accuracy: 0.9093\n",
      "Epoch 33/50\n",
      "369/369 [==============================] - 45s 120ms/step - loss: 0.5958 - accuracy: 0.6521 - val_loss: 0.2906 - val_accuracy: 0.9133\n",
      "Epoch 34/50\n",
      "369/369 [==============================] - 45s 120ms/step - loss: 0.5960 - accuracy: 0.6527 - val_loss: 0.3083 - val_accuracy: 0.9013\n",
      "Epoch 35/50\n",
      "369/369 [==============================] - 45s 121ms/step - loss: 0.5949 - accuracy: 0.6524 - val_loss: 0.2873 - val_accuracy: 0.9173\n",
      "Epoch 36/50\n",
      "369/369 [==============================] - 45s 121ms/step - loss: 0.5946 - accuracy: 0.6530 - val_loss: 0.2866 - val_accuracy: 0.9173\n",
      "Epoch 37/50\n",
      "369/369 [==============================] - 45s 121ms/step - loss: 0.5939 - accuracy: 0.6540 - val_loss: 0.2823 - val_accuracy: 0.9147\n",
      "Epoch 38/50\n",
      "369/369 [==============================] - 45s 121ms/step - loss: 0.5935 - accuracy: 0.6541 - val_loss: 0.2793 - val_accuracy: 0.9173\n",
      "Epoch 39/50\n",
      "369/369 [==============================] - 44s 120ms/step - loss: 0.5934 - accuracy: 0.6538 - val_loss: 0.2833 - val_accuracy: 0.9173\n",
      "Epoch 40/50\n",
      "369/369 [==============================] - 45s 121ms/step - loss: 0.5932 - accuracy: 0.6539 - val_loss: 0.2719 - val_accuracy: 0.9187\n",
      "Epoch 41/50\n",
      "369/369 [==============================] - 45s 121ms/step - loss: 0.5924 - accuracy: 0.6556 - val_loss: 0.2878 - val_accuracy: 0.9147\n",
      "Epoch 42/50\n",
      "369/369 [==============================] - 44s 120ms/step - loss: 0.5924 - accuracy: 0.6542 - val_loss: 0.2883 - val_accuracy: 0.9093\n",
      "Epoch 43/50\n",
      "369/369 [==============================] - 44s 120ms/step - loss: 0.5918 - accuracy: 0.6555 - val_loss: 0.2830 - val_accuracy: 0.9160\n",
      "Epoch 44/50\n",
      "369/369 [==============================] - 45s 121ms/step - loss: 0.5915 - accuracy: 0.6555 - val_loss: 0.2692 - val_accuracy: 0.9240\n",
      "Epoch 45/50\n",
      "369/369 [==============================] - 44s 120ms/step - loss: 0.5910 - accuracy: 0.6561 - val_loss: 0.2845 - val_accuracy: 0.9133\n",
      "Epoch 46/50\n",
      "369/369 [==============================] - 45s 120ms/step - loss: 0.5909 - accuracy: 0.6558 - val_loss: 0.2860 - val_accuracy: 0.9067\n",
      "Epoch 47/50\n",
      "369/369 [==============================] - 44s 120ms/step - loss: 0.5906 - accuracy: 0.6567 - val_loss: 0.2760 - val_accuracy: 0.9227\n",
      "Epoch 48/50\n",
      "369/369 [==============================] - 44s 120ms/step - loss: 0.5902 - accuracy: 0.6568 - val_loss: 0.2733 - val_accuracy: 0.9173\n",
      "Epoch 49/50\n",
      "369/369 [==============================] - 45s 121ms/step - loss: 0.5902 - accuracy: 0.6569 - val_loss: 0.2615 - val_accuracy: 0.9227\n",
      "Epoch 50/50\n",
      "369/369 [==============================] - 44s 120ms/step - loss: 0.5898 - accuracy: 0.6574 - val_loss: 0.2861 - val_accuracy: 0.9067\n"
     ]
    }
   ],
   "source": [
    "# Entreno el modelo\n",
    "early_stopping = EarlyStopping(monitor='val_loss', patience=10, restore_best_weights=True)\n",
    "model_checkpoint = ModelCheckpoint('../src/trained_models/residual_net_aug.h5', save_best_only=True, monitor='val_loss')\n",
    "\n",
    "# Entreno el modelo\n",
    "history = model.fit(\n",
    "    train_data,\n",
    "    validation_data=val_data,\n",
    "    epochs=50, \n",
    "    steps_per_epoch=train_data.samples // batch_size,\n",
    "    validation_steps=val_data.samples // batch_size,\n",
    "    callbacks=[early_stopping, model_checkpoint]\n",
    ")"
   ]
  },
  {
   "cell_type": "code",
   "execution_count": 5,
   "id": "2b02df70-ba70-41fa-aa11-b3284eebafea",
   "metadata": {},
   "outputs": [
    {
     "name": "stdout",
     "output_type": "stream",
     "text": [
      "Epoch 1/2\n",
      "369/369 - 133s - loss: 0.5612 - accuracy: 0.6605 - val_loss: 0.0324 - val_accuracy: 0.9920 - 133s/epoch - 360ms/step\n",
      "Epoch 2/2\n",
      "369/369 - 122s - loss: 0.5270 - accuracy: 0.6976 - val_loss: 0.0110 - val_accuracy: 0.9973 - 122s/epoch - 332ms/step\n"
     ]
    }
   ],
   "source": [
    "# Descongelamos el modelo\n",
    "pre_trained_model.trainable=True\n",
    "\n",
    "# Compilo el modelo, ahora descongelado\n",
    "model.compile(loss='binary_crossentropy',\n",
    "              optimizer=Adam(learning_rate=1e-5),\n",
    "              metrics=['accuracy'])\n",
    "\n",
    "# Entreno por 2 épocas más\n",
    "history = model.fit(\n",
    "    train_data,\n",
    "    steps_per_epoch=train_data.samples // batch_size,  \n",
    "    epochs=2, \n",
    "    validation_data=val_data,\n",
    "    validation_steps=val_data.samples // batch_size, \n",
    "    verbose=2,\n",
    "    callbacks=[early_stopping, model_checkpoint]\n",
    ")"
   ]
  },
  {
   "cell_type": "code",
   "execution_count": 6,
   "id": "75aa1707-3893-4f25-82fe-fce72cfcc1e0",
   "metadata": {},
   "outputs": [
    {
     "data": {
      "image/png": "[encoded data removed]",
      "text/plain": [
       "<Figure size 1200x400 with 2 Axes>"
      ]
     },
     "metadata": {},
     "output_type": "display_data"
    }
   ],
   "source": [
    "# Grafico la evolucion de perdida para los conjuntos de entrenamiento y prueba durante el entrenamiento\n",
    "def plot_training_history(history):\n",
    "    fig, (ax1, ax2) = plt.subplots(1, 2, figsize=(12, 4))\n",
    "\n",
    "    # Gráfico de pérdida\n",
    "    ax1.plot(history.history['loss'], label='Pérdida de entrenamiento')\n",
    "    ax1.plot(history.history['val_loss'], label='Pérdida de validación')\n",
    "    ax1.set_title('Evolución de la pérdida durante el entrenamiento')\n",
    "    ax1.set_xlabel('Epochs')\n",
    "    ax1.set_ylabel('Pérdida')\n",
    "    ax1.legend()\n",
    "    ax1.grid(True)\n",
    "\n",
    "    # Gráfico de precisión\n",
    "    ax2.plot(history.history['accuracy'], label='Precisión de entrenamiento')\n",
    "    ax2.plot(history.history['val_accuracy'], label='Precisión de validación')\n",
    "    ax2.set_title('Evolución de la precisión durante el entrenamiento')\n",
    "    ax2.set_xlabel('Epochs')\n",
    "    ax2.set_ylabel('Precisión')\n",
    "    ax2.legend()\n",
    "    ax2.grid(True)\n",
    "\n",
    "    plt.tight_layout()\n",
    "    plt.show()\n",
    "\n",
    "plot_training_history(history)"
   ]
  },
  {
   "cell_type": "markdown",
   "id": "eaca84f2-ca4b-44bf-8eb1-3ca30676521b",
   "metadata": {},
   "source": [
    "---\n",
    "\n",
    "<br>\n",
    "<br>\n",
    "<br>"
   ]
  },
  {
   "cell_type": "markdown",
   "id": "5f2b49fa-c444-4d57-9a05-ea0a66a8b4be",
   "metadata": {},
   "source": [
    "## Validando el modelo\n",
    "\n",
    "Tras el entrenamiento, revisamos la calidad del modelo, enfrentadolo con el conjunto de prueba, y accediendo a las metricas que reflejan las predicciones para este subset."
   ]
  },
  {
   "cell_type": "code",
   "execution_count": 7,
   "id": "f9d5b106-86d9-4b46-9460-fbca01739c04",
   "metadata": {},
   "outputs": [
    {
     "name": "stdout",
     "output_type": "stream",
     "text": [
      "4/4 [==============================] - 1s 218ms/step\n",
      "[[268   0]\n",
      " [  3 235]]\n",
      "              precision    recall  f1-score   support\n",
      "\n",
      "           0       0.99      1.00      0.99       268\n",
      "           1       1.00      0.99      0.99       238\n",
      "\n",
      "    accuracy                           0.99       506\n",
      "   macro avg       0.99      0.99      0.99       506\n",
      "weighted avg       0.99      0.99      0.99       506\n",
      "\n"
     ]
    }
   ],
   "source": [
    "# Genero predicciones para el conjunto de prueba\n",
    "y_pred = model.predict(test_data)\n",
    "y_pred = [1 if p >= 0.5 else 0 for p in y_pred]\n",
    "\n",
    "conf_matrix = confusion_matrix(test_data.classes, y_pred)\n",
    "class_report = classification_report(test_data.classes, y_pred)\n",
    "\n",
    "print(conf_matrix)\n",
    "print(class_report)"
   ]
  },
  {
   "cell_type": "code",
   "execution_count": 8,
   "id": "21b08e5f-7043-4a04-8d62-c8148c4bb7c6",
   "metadata": {},
   "outputs": [
    {
     "name": "stdout",
     "output_type": "stream",
     "text": [
      "F1-Score ==> 0.994\n",
      "Recall ==> 0.987\n",
      "Precision ==> 1.0\n",
      "Accuracy ==> 0.994\n"
     ]
    }
   ],
   "source": [
    "## MÉTRICAS DE CLASIFICACIÓN\n",
    "\n",
    "print(f\"F1-Score ==> {round(f1_score(test_data.labels, y_pred), 3)}\")\n",
    "print(f\"Recall ==> {round(recall_score(test_data.labels, y_pred), 3)}\")\n",
    "print(f\"Precision ==> {round(precision_score(test_data.labels, y_pred), 3)}\")\n",
    "print(f\"Accuracy ==> {round(accuracy_score(test_data.labels, y_pred), 3)}\")"
   ]
  },
  {
   "cell_type": "markdown",
   "id": "25a66a40-c03e-4b2c-8346-8f4c0f81f14b",
   "metadata": {},
   "source": [
    "El modelo entrenado mediante transferencia de aprendizaje lo hace realmente bien. De hecho, es capaz de predecir correctamente todas las instancias positivas de entrenamiento, sin generar falsos negativos (los falsos positivos no tienen una importancia tan critica en este caso). Este modelo es el que voy a utilizar en producción, pues el resultado es prácticamente perfecto."
   ]
  },
  {
   "cell_type": "code",
   "execution_count": 9,
   "id": "cfe153c4-e911-4d04-9d17-df56d76f4e00",
   "metadata": {},
   "outputs": [
    {
     "name": "stdout",
     "output_type": "stream",
     "text": [
      "Modelo guardado correctamente.\n"
     ]
    }
   ],
   "source": [
    "# Guardo el modelo entrenado\n",
    "base_model_path = \"../src/trained_models/\"\n",
    "model.save(os.path.join(base_model_path, \"residual_net_aug_model.keras\"))\n",
    "\n",
    "print(\"Modelo guardado correctamente.\")"
   ]
  },
  {
   "cell_type": "code",
   "execution_count": null,
   "id": "0f3bb7b8-95d7-4775-8c68-fff5d0433968",
   "metadata": {},
   "outputs": [],
   "source": []
  }
 ],
 "metadata": {
  "kernelspec": {
   "display_name": "Python 3 (ipykernel)",
   "language": "python",
   "name": "python3"
  },
  "language_info": {
   "codemirror_mode": {
    "name": "ipython",
    "version": 3
   },
   "file_extension": ".py",
   "mimetype": "text/x-python",
   "name": "python",
   "nbconvert_exporter": "python",
   "pygments_lexer": "ipython3",
   "version": "3.10.14"
  }
 },
 "nbformat": 4,
 "nbformat_minor": 5
}
